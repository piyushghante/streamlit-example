{
  "nbformat": 4,
  "nbformat_minor": 0,
  "metadata": {
    "colab": {
      "provenance": [],
      "authorship_tag": "ABX9TyN9Nv/6af6YZ90vPqW3h8jn",
      "include_colab_link": true
    },
    "kernelspec": {
      "name": "python3",
      "display_name": "Python 3"
    },
    "language_info": {
      "name": "python"
    }
  },
  "cells": [
    {
      "cell_type": "markdown",
      "metadata": {
        "id": "view-in-github",
        "colab_type": "text"
      },
      "source": [
        "<a href=\"https://colab.research.google.com/github/piyushghante/streamlit-example/blob/master/SIH.ipynb\" target=\"_parent\"><img src=\"https://colab.research.google.com/assets/colab-badge.svg\" alt=\"Open In Colab\"/></a>"
      ]
    },
    {
      "cell_type": "code",
      "source": [
        "pip install mysql-connector-python\n"
      ],
      "metadata": {
        "id": "Q6Bk9lSbgVwr"
      },
      "execution_count": null,
      "outputs": []
    },
    {
      "cell_type": "code",
      "source": [
        "import mysql.connector\n",
        "import os\n",
        "\n",
        "def retrieve_documents_from_db():\n",
        "    # Set up MySQL connection\n",
        "    db_connection = mysql.connector.connect(\n",
        "        host=\"sql12.freemysqlhosting.net\",\n",
        "        user=\"sql12647419\",\n",
        "        password=\"vKb8GgZwFe\",\n",
        "        database=\"sql12647419\"\n",
        "    )\n",
        "\n",
        "    # Initialize MySQL cursor\n",
        "    cursor = db_connection.cursor()\n",
        "\n",
        "    # Retrieve documents from the database\n",
        "    select_query = \"SELECT id, text FROM documents;\"\n",
        "    cursor.execute(select_query)\n",
        "\n",
        "    # Create a directory to store the documents\n",
        "    output_dir = \"data\"\n",
        "    if not os.path.exists(output_dir):\n",
        "        os.makedirs(output_dir)\n",
        "\n",
        "    # Loop through the retrieved documents\n",
        "    for row in cursor.fetchall():\n",
        "        doc_id, document_text = row\n",
        "\n",
        "        # Create a file path using the document ID as the filename\n",
        "        file_name = f\"{doc_id}.txt\"\n",
        "        file_path = os.path.join(output_dir, file_name)\n",
        "\n",
        "        # Save the document text to the file\n",
        "        with open(file_path, \"w\", encoding=\"utf-8\") as file:\n",
        "            file.write(document_text)\n",
        "\n",
        "    # Close the cursor and connection\n",
        "    cursor.close()\n",
        "    db_connection.close()\n",
        "\n",
        "# Example usage:\n",
        "retrieve_documents_from_db()\n"
      ],
      "metadata": {
        "id": "_ia2STrZgRO8"
      },
      "execution_count": 2,
      "outputs": []
    },
    {
      "cell_type": "code",
      "execution_count": null,
      "metadata": {
        "id": "eeO_8zWQMptm"
      },
      "outputs": [],
      "source": [
        "%%bash\n",
        "\n",
        "pip install --upgrade pip\n",
        "pip install farm-haystack[colab,inference]\n"
      ]
    },
    {
      "cell_type": "code",
      "source": [
        "from haystack.telemetry import tutorial_running\n",
        "\n",
        "tutorial_running(1)\n"
      ],
      "metadata": {
        "id": "hivzarsMM-lz"
      },
      "execution_count": 7,
      "outputs": []
    },
    {
      "cell_type": "code",
      "source": [
        "import logging\n",
        "\n",
        "logging.basicConfig(format=\"%(levelname)s - %(name)s -  %(message)s\", level=logging.WARNING)\n",
        "logging.getLogger(\"haystack\").setLevel(logging.INFO)\n"
      ],
      "metadata": {
        "id": "c7Xta60wNCmj"
      },
      "execution_count": 8,
      "outputs": []
    },
    {
      "cell_type": "code",
      "source": [
        "from haystack.document_stores import InMemoryDocumentStore\n",
        "\n",
        "document_store = InMemoryDocumentStore(use_bm25=True)\n"
      ],
      "metadata": {
        "id": "fSaonJ_kNLVW"
      },
      "execution_count": null,
      "outputs": []
    },
    {
      "cell_type": "code",
      "source": [
        "doc_dir = \"data\""
      ],
      "metadata": {
        "id": "SFcliT1rNP3s"
      },
      "execution_count": 10,
      "outputs": []
    },
    {
      "cell_type": "code",
      "source": [
        "import os\n",
        "from haystack.pipelines.standard_pipelines import TextIndexingPipeline\n",
        "\n",
        "files_to_index = [doc_dir + \"/\" + f for f in os.listdir(doc_dir)]\n",
        "indexing_pipeline = TextIndexingPipeline(document_store)\n",
        "indexing_pipeline.run_batch(file_paths=files_to_index)\n"
      ],
      "metadata": {
        "id": "f0qHSOJ3NUeC"
      },
      "execution_count": null,
      "outputs": []
    },
    {
      "cell_type": "code",
      "source": [
        "from haystack.nodes import BM25Retriever\n",
        "\n",
        "retriever = BM25Retriever(document_store=document_store)\n"
      ],
      "metadata": {
        "id": "m4HJ9yq8OAwm"
      },
      "execution_count": 12,
      "outputs": []
    },
    {
      "cell_type": "code",
      "source": [
        "from haystack.nodes import FARMReader\n",
        "\n",
        "reader = FARMReader(model_name_or_path=\"deepset/roberta-base-squad2\", use_gpu=True)\n"
      ],
      "metadata": {
        "id": "z6COz884OEr9"
      },
      "execution_count": null,
      "outputs": []
    },
    {
      "cell_type": "code",
      "source": [
        "from haystack.pipelines import ExtractiveQAPipeline\n",
        "\n",
        "pipe = ExtractiveQAPipeline(reader, retriever)\n"
      ],
      "metadata": {
        "id": "eM0Cv2hBOJGc"
      },
      "execution_count": 19,
      "outputs": []
    },
    {
      "cell_type": "code",
      "source": [
        "prediction = pipe.run(\n",
        "    query=\"Notice of reopening\", params={\"Retriever\": {\"top_k\": 10}, \"Reader\": {\"top_k\": 3}}\n",
        ")\n"
      ],
      "metadata": {
        "colab": {
          "base_uri": "https://localhost:8080/"
        },
        "id": "cPEZvt6tOOVC",
        "outputId": "b1971a12-7970-4443-8902-4bfc91559ced"
      },
      "execution_count": 79,
      "outputs": [
        {
          "output_type": "stream",
          "name": "stderr",
          "text": [
            "Inferencing Samples: 100%|██████████| 1/1 [00:15<00:00, 15.10s/ Batches]\n"
          ]
        }
      ]
    },
    {
      "cell_type": "code",
      "source": [
        "from pprint import pprint\n",
        "\n",
        "pprint(prediction)\n"
      ],
      "metadata": {
        "colab": {
          "base_uri": "https://localhost:8080/"
        },
        "id": "d78bvdVoOiJa",
        "outputId": "c8b3a2ca-4311-45c1-c26c-eb68296300b4"
      },
      "execution_count": 80,
      "outputs": [
        {
          "output_type": "stream",
          "name": "stdout",
          "text": [
            "{'answers': [<Answer {'answer': 'the owner, agent or manager shall, not less than thirty\\ndays before resumption of mining operations', 'type': 'extractive', 'score': 0.06911326944828033, 'context': 'iod exceeding sixty days, the owner, agent or manager shall, not less than thirty\\ndays before resumption of mining operations, give to the Chief Inspe', 'offsets_in_document': [{'start': 151, 'end': 250}], 'offsets_in_context': [{'start': 26, 'end': 125}], 'document_ids': ['e2378d1b3a22617fc407dc85d2fb60ce'], 'meta': {'_split_id': 8}}>,\n",
            "             <Answer {'answer': 'night', 'type': 'extractive', 'score': 0.03561824560165405, 'context': 'e mine or any part thereof or any output therefrom at any time by day or\\nnight:\\nProvided that, where in the opinion of the Chief Inspector or of an In', 'offsets_in_document': [{'start': 614, 'end': 619}], 'offsets_in_context': [{'start': 73, 'end': 78}], 'document_ids': ['cd26f3254fb6b546d5f55b8edafe7431'], 'meta': {'_split_id': 13}}>,\n",
            "             <Answer {'answer': 'prescribed', 'type': 'extractive', 'score': 0.030369363725185394, 'context': ' form and containing such particulars relating to the mine, as may be\\nprescribed.\\n(2) Any notice given under sub-section (1) shall be so given as to r', 'offsets_in_document': [{'start': 378, 'end': 388}], 'offsets_in_context': [{'start': 70, 'end': 80}], 'document_ids': ['226b7886f9acacfa905b28bfef86daf8'], 'meta': {'_split_id': 27}}>],\n",
            " 'documents': [<Document: {'content': 'Notice of reopening.- (1) When it is intended to reopen a mine or seam after abandonment, closure or\\ndiscontinuance for a period exceeding sixty days, the owner, agent or manager shall, not less than thirty\\ndays before resumption of mining operations, give to the Chief Inspector, the Regional Inspector and to the\\nDistrict Magistrate notice in the Form and method as may be specified by the Chief Inspector for the\\npurpose.\\n(2) When a mine has been reopened, the owner, agent or manager of the mine shall forthwith communicate\\nthe actual date of the reopening to the Chief Inspector, the Regional Inspector and to the District\\nMagistrate.\\n7. ', 'content_type': 'text', 'score': 0.8401392541056687, 'meta': {'_split_id': 8}, 'id_hash_keys': ['content'], 'embedding': None, 'id': 'e2378d1b3a22617fc407dc85d2fb60ce'}>,\n",
            "               <Document: {'content': 'Notice to be given of accidents :-\\n\\n(1) Whenever there occurs in or about a mine:-\\n(a) an accident causing loss of life or serious bodily injury, or\\n(b) an explosion, ignition, spontaneous heating, outbreak of fire or irruption or\\ninrush of water or other liquid matter, or\\n(c) an influx of inflammable or noxious gases, or\\n(d) a breakage of ropes, chains or other gear by which persons or materials are\\nlowered or raised in a shaft or an incline, or\\n(e) an overwinding of cages of other means of conveyance in any shaft while\\npersons or materials are being lowered or raised, or\\n(f) a premature collapse of any part of the workings, or\\n(g) any other accident which may be prescribed, the owner, agent or manager of\\nthe mine shall give notice of the occurrence to such authority in such form\\nand within such time as may be prescribed, and he shall simultaneously post\\none copy of the notice on a special notice-board in the prescribed manner at\\na place where it may be inspected by trade union officials, and shall ensure\\nthat the notice is kept on the board for not less than fourteen days from the\\ndate of such posting.\\n', 'content_type': 'text', 'score': 0.6588061218825452, 'meta': {'_split_id': 43}, 'id_hash_keys': ['content'], 'embedding': None, 'id': '3282cb6ef42759428e0ea25c392b22a'}>,\n",
            "               <Document: {'content': '(2) No such deduction shall be made from the wages of any\\nemployed person unless-\\n(a) there is a provision in writing in the terms of the contract of\\nemployment or In the certified Standing Orders of the employer\\nrequiring him to give notice of the termination of his employment;\\n(b) this rule has been displayed in English and in the language of\\nthe majority-of the employed persons outside the office of the\\nmine, and at the specified place or places concerned, and has been\\nso displayed for notless than one month before the commencement\\nof the absence in respect of which the deduction is made; and\\n(c) at least one week before such deduction is made a notice has\\nbeen displayed outside the office of the mine and at the specified\\nplace or pieces concerned, giving the names of the persons from\\nwhom deduction is\\n(3) No such deduction shall exceed the wages of the person\\nemployed for the period by which the notice of termination of\\nservice given falls short of the period of such notice required by the\\ncontract of employment or certified Standing Orders.\\n', 'content_type': 'text', 'score': 0.6567563289507402, 'meta': {'_split_id': 19}, 'id_hash_keys': ['content'], 'embedding': None, 'id': '7bb0d1139f735de1c4f75781369b3ce0'}>,\n",
            "               <Document: {'content': '(7) Every notice under sub-section(1) or order under sub-section (1A), sub-section(2) or\\nsub-section(3) or sub-section (4) to which objection is made under sub-section(6) shall be\\ncomplied with, pending the receipt at the mine of the decision of the Committee.\\n\\nProvided that the Committee may, on the application of the owner, agent or manager,\\nsuspend the operation of a notice under sub-section (1) pending its decision on the\\nobjection.\\n(8) Nothing in this section shall affect the powers of a magistrate under section 144 of the\\nCode of Criminal procedure 1896. Act V of 1898).\\n22A\\nPower to prohibit employment in certain cases:\\n(1)Where in respect of any matter relating to safety for which express provision is made\\nby or under this Act, the owner, agent or manager of mine fails to comply with such\\nprovisions, the Chief Inspector may give notice in writing requiring some to be complied\\nwith within such time as he, may specify in the notice or within such extended period of\\ntime as he may, from time to time, specify thereafter.\\n', 'content_type': 'text', 'score': 0.6536879949602089, 'meta': {'_split_id': 40}, 'id_hash_keys': ['content'], 'embedding': None, 'id': 'ecfffc21fb835b3a4105e9340f130c38'}>,\n",
            "               <Document: {'content': '(4) The provisions of sub-section (5), (6) and (7) of section 22 shall apply in relation to a\\nnotice issued under sub-section (1) or an order made under sub-section(2) of this section\\nas they apply in relation to a notice under sub-section (1) or an order under sub-section\\n(1A) of that section.”\\n23.\\n', 'content_type': 'text', 'score': 0.653611947287783, 'meta': {'_split_id': 42}, 'id_hash_keys': ['content'], 'embedding': None, 'id': '24d41a4a6ed55856b9d4952d50b65a4b'}>,\n",
            "               <Document: {'content': '(2) The owner, agent or manager shall simultaneously exhibit a copy of the notice referred to in sub-\\nregulation (1) on a special notice board at the office of the mine for a period of not less than fourteen days\\nfrom the date of such exhibition.\\n(3) When an accident causing loss of life, serious bodily injury or burn injury occurs in or about a mine in\\nconnection with the generation, storage, transformation, transmission, supply or use of electrical energy,\\nthe owner, agent or manager shall also forthwith inform the Inspector of Mines (Electrical) by telephone,\\nfax, e-mail or by special messenger:\\nProvided that in case such notice is sent by e-mail, it shall be immediately followed by fax or letter.\\n', 'content_type': 'text', 'score': 0.6528523949541266, 'meta': {'_split_id': 15}, 'id_hash_keys': ['content'], 'embedding': None, 'id': '7d9187c2f07123cddaa40f301f8ba714'}>,\n",
            "               <Document: {'content': 'Power to take possession of land acquired.—The competent authority may, by notice in\\nwriting, require any person in possession of any land acquired under this Act to surrender or deliver\\npossession of the land within such period as may be specified in the notice, and if a person refuses or fails\\nto comply with any such notice, the competent authority may enter upon and take possession of the land,\\nand for that purpose may use or cause to be used such force as may be necessary.\\n13. ', 'content_type': 'text', 'score': 0.6521415884257177, 'meta': {'_split_id': 16}, 'id_hash_keys': ['content'], 'embedding': None, 'id': '9637f8ea499476f1e5e297d38ba4015a'}>,\n",
            "               <Document: {'content': '(2) If a mine is abandoned or closed or workings thereof is discontinued over a period exceeding sixty days\\nor if a change occurs in the ownership of a mine, the returns required under sub-regulation (1) shall be\\nsubmitted within thirty days of such abandonment or closure or change of ownership or within ninety days\\nof discontinuance, as the case may be.\\n5. Notice of abandonment, closure or discontinuance.- (1) When it is intended to abandon or close a\\nmine or seam or to discontinue workings thereof for a period exceeding sixty days, the owner, agent or\\nmanager shall give a notice in the Form and method as may be specified by the Chief Inspector for the\\npurpose, to the Chief Inspector, the Regional Inspector and to the District Magistrate stating the reasons for\\nsuch abandonment, closure or discontinuance and the number of persons likely to be affected thereby, not\\nless than thirty days before such abandonment or discontinuance:\\nProvided that when on account of unforeseen circumstances a mine is abandoned, closed or\\ndiscontinued before the said notice has been given or without previous intention the discontinuance extends\\nbeyond a period of sixty days, the notice shall be given forthwith.\\n', 'content_type': 'text', 'score': 0.6487302985192978, 'meta': {'_split_id': 6}, 'id_hash_keys': ['content'], 'embedding': None, 'id': 'd739d6d7bb16c01a717ef59a8c1f7283'}>,\n",
            "               <Document: {'content': '–\\nAny person in the service of Government duly authorised in this behalf by a special order\\nin writing of the Chief Inspector or of an Inspector may, for the purpose of surveying\\nleveling or measuring any mine;  or any output therefrom after giving not less than three\\ndays’  notice to the manager of such mine, enter the mine and may survey, level or\\nmeasure, the mine or any part thereof or  any output therefrom after giving not less than\\nthree days’ notice to the manager of such mine, enter the mine and may survey, level or\\nmeasure, the mine or any part thereof or any output therefrom at any time by day or\\nnight:\\nProvided that, where in the opinion of the Chief Inspector or of an Inspector an\\nemergency exists, he may by order in writing, authorise any such person to enter the\\nmine for any of the aforesaid purpose without giving any such notice.\\n9.\\n', 'content_type': 'text', 'score': 0.6483269177174055, 'meta': {'_split_id': 13}, 'id_hash_keys': ['content'], 'embedding': None, 'id': 'cd26f3254fb6b546d5f55b8edafe7431'}>,\n",
            "               <Document: {'content': 'Notice to be given of mining operations –\\n(1) The owner, agent or manager of a mine shall, before the commencement of any\\nmining operation, give to the Chief Inspector, the Controller, Indian Bureau of Mines\\nand the District Magistrate of the district in which the mine is situated, notice in writing\\nin such form and containing such particulars relating to the mine, as may be\\nprescribed.\\n(2) Any notice given under sub-section (1) shall be so given as to reach the persons\\nconcerned at least one month before the commencement of any noting operation.\\n17.\\n(1) Managers- Save as may be otherwise prescribed, every mine shall be under a sole\\nmanager who shall have the prescribed qualifications and the owner or agent of every\\nmine shall appoint a person having such qualifications to be the manager:\\nProvided that the owner or agent may appoint himself as manager if he possesses the\\nprescribed qualifications.\\n', 'content_type': 'text', 'score': 0.6470370936960403, 'meta': {'_split_id': 27}, 'id_hash_keys': ['content'], 'embedding': None, 'id': '226b7886f9acacfa905b28bfef86daf8'}>],\n",
            " 'no_ans_gap': -3.749689221382141,\n",
            " 'node_id': 'Reader',\n",
            " 'params': {'Reader': {'top_k': 3}, 'Retriever': {'top_k': 10}},\n",
            " 'query': 'Notice of reopening',\n",
            " 'root_node': 'Query'}\n"
          ]
        }
      ]
    },
    {
      "cell_type": "code",
      "source": [
        "from haystack.utils import print_answers\n",
        "\n",
        "print_answers(prediction, details=\"minimum\")  ## Choose from `minimum`, `medium`, and `all`\n"
      ],
      "metadata": {
        "colab": {
          "base_uri": "https://localhost:8080/"
        },
        "id": "iYqN58FMOoSq",
        "outputId": "fae62e68-5c11-4f61-c7c6-a3c2d0415c4e"
      },
      "execution_count": 81,
      "outputs": [
        {
          "output_type": "stream",
          "name": "stdout",
          "text": [
            "'Query: Notice of reopening'\n",
            "'Answers:'\n",
            "[   {   'answer': 'the owner, agent or manager shall, not less than thirty\\n'\n",
            "                  'days before resumption of mining operations',\n",
            "        'context': 'iod exceeding sixty days, the owner, agent or manager '\n",
            "                   'shall, not less than thirty\\n'\n",
            "                   'days before resumption of mining operations, give to the '\n",
            "                   'Chief Inspe'},\n",
            "    {   'answer': 'night',\n",
            "        'context': 'e mine or any part thereof or any output therefrom at any '\n",
            "                   'time by day or\\n'\n",
            "                   'night:\\n'\n",
            "                   'Provided that, where in the opinion of the Chief Inspector '\n",
            "                   'or of an In'},\n",
            "    {   'answer': 'prescribed',\n",
            "        'context': ' form and containing such particulars relating to the '\n",
            "                   'mine, as may be\\n'\n",
            "                   'prescribed.\\n'\n",
            "                   '(2) Any notice given under sub-section (1) shall be so '\n",
            "                   'given as to r'}]\n"
          ]
        }
      ]
    },
    {
      "cell_type": "code",
      "source": [
        "from haystack.pipelines import ExtractiveQAPipeline\n",
        "\n",
        "# ... (previous code)\n",
        "\n",
        "# Increase the top_k for both Retriever and Reader components\n",
        "prediction = pipe.run(\n",
        "    query=\"What is the process for the Central Government to recover the cost of measures undertaken in relation to a coal mine? \",\n",
        "    params={\"Retriever\": {\"top_k\": 10}, \"Reader\": {\"top_k\": 5}}\n",
        ")\n",
        "\n",
        "# Extract the answers from the prediction\n",
        "answers = prediction[\"answers\"]\n",
        "\n",
        "# Combine the answers into a single response\n",
        "combined_answer = \"\\n\".join(answer.answer for answer in answers)\n",
        "\n",
        "# Print the combined answer\n",
        "print(\"Combined Answer:\")\n",
        "print(combined_answer)\n"
      ],
      "metadata": {
        "colab": {
          "base_uri": "https://localhost:8080/"
        },
        "id": "KVk7h2sendlH",
        "outputId": "09efd534-41ee-4b5e-8b68-b7709dd184a2"
      },
      "execution_count": 82,
      "outputs": [
        {
          "output_type": "stream",
          "name": "stderr",
          "text": [
            "Inferencing Samples: 100%|██████████| 1/1 [00:12<00:00, 12.75s/ Batches]"
          ]
        },
        {
          "output_type": "stream",
          "name": "stdout",
          "text": [
            "Combined Answer:\n",
            "sub-section (1) or\n",
            "sub-section (2) in relation to a coal mine is justified, recover such cost from the owner, agent or manager\n",
            "after due appropriation made by Parliament by law\n",
            "Coal Mines Provident Fund Scheme\n",
            "the Central Government shall constitute a Tribunal\n",
            "ancillary to the getting, dressing or preparation for sale of coal obtained as a result of such\n",
            "operations\n"
          ]
        },
        {
          "output_type": "stream",
          "name": "stderr",
          "text": [
            "\n"
          ]
        }
      ]
    }
  ]
}